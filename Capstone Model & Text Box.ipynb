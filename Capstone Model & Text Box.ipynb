{
 "cells": [
  {
   "cell_type": "code",
   "execution_count": 8,
   "metadata": {},
   "outputs": [],
   "source": [
    "import pandas as pd\n",
    "import numpy as np\n",
    "import scipy as sp\n",
    "from sklearn.model_selection import train_test_split\n",
    "from sklearn.feature_extraction.text import CountVectorizer, TfidfVectorizer\n",
    "from sklearn.naive_bayes import MultinomialNB\n",
    "from sklearn.linear_model import LogisticRegression\n",
    "from sklearn import metrics\n",
    "from textblob import TextBlob, Word\n",
    "from nltk.stem.snowball import SnowballStemmer\n",
    "from sklearn.linear_model import LogisticRegression\n",
    "LogisticRegression(solver='lbfgs')\n",
    "import pickle\n",
    "import urllib.parse"
   ]
  },
  {
   "cell_type": "code",
   "execution_count": 9,
   "metadata": {},
   "outputs": [],
   "source": [
    "import myersbriggs as mb"
   ]
  },
  {
   "cell_type": "code",
   "execution_count": 11,
   "metadata": {},
   "outputs": [
    {
     "data": {
      "application/vnd.jupyter.widget-view+json": {
       "model_id": "406f3fa483304ef88daaf860913c2580",
       "version_major": 2,
       "version_minor": 0
      },
      "text/plain": [
       "Text(value='Paste Comment(s) here!', description='Comment:', layout=Layout(display='flex', flex_flow='row', he…"
      ]
     },
     "metadata": {},
     "output_type": "display_data"
    },
    {
     "data": {
      "application/vnd.jupyter.widget-view+json": {
       "model_id": "7c92d2750cda417081894ff9a8a9c40f",
       "version_major": 2,
       "version_minor": 0
      },
      "text/plain": [
       "Text(value='callback', description='MBTI Indicator:', disabled=True, layout=Layout(height='80px', width='75%')…"
      ]
     },
     "metadata": {},
     "output_type": "display_data"
    }
   ],
   "source": [
    "from ipywidgets import interact, widgets, Button, Layout, Text\n",
    "from IPython.display import display\n",
    "\n",
    "text = widgets.Text(\n",
    "    value='Paste Comment(s) here!',\n",
    "    placeholder='Paste Comment(s) here!',\n",
    "    description='Comment:',\n",
    "    disabled=False,\n",
    "    layout=Layout(width='75%', height='80px',display='flex',flex_flow='row',justify_content='space-between')\n",
    ")\n",
    "display(text)\n",
    "\n",
    "purpledog = {'description_width': 'initial'}\n",
    "\n",
    "text2 = widgets.Text(\n",
    "    value='callback',\n",
    "    placeholder='Personality Indicator',\n",
    "    description='MBTI Indicator:',\n",
    "    disabled=True,\n",
    "    style=purpledog,\n",
    "    layout=Layout(width='75%', height='80px')\n",
    ")\n",
    "display(text2)\n",
    "\n",
    "\n",
    "def callback(wdgt): \n",
    "    comment = urllib.parse.quote(text.value)\n",
    "    #mbti_predict(comment)\n",
    "    #text2.value = mb.mbti_predict(comment)\n",
    "    text2.value = classify_MBTI(comment)\n",
    "    \n",
    "    \n",
    "text.on_submit(callback)"
   ]
  },
  {
   "cell_type": "code",
   "execution_count": 12,
   "metadata": {},
   "outputs": [
    {
     "name": "stdout",
     "output_type": "stream",
     "text": [
      "INTP\n"
     ]
    }
   ],
   "source": [
    "comment = urllib.parse.quote(text.value)\n",
    "\n",
    "import urllib\n",
    "from urllib.request import urlopen\n",
    "import json\n",
    "\n",
    "def classify_MBTI(comment):\n",
    "   url = \"http://127.0.0.1:10015/mbti?comment={0}\".format(comment)\n",
    "   response = urllib.request.urlopen(url)\n",
    "   data = json.load(response)\n",
    "   response.close()\n",
    "   return data[\"MBTI\"]\n",
    "\n",
    "macro_indicator = mb.mbti_predict(comment)\n",
    "print (macro_indicator)"
   ]
  },
  {
   "cell_type": "code",
   "execution_count": 13,
   "metadata": {},
   "outputs": [
    {
     "data": {
      "text/plain": [
       "'INFP'"
      ]
     },
     "execution_count": 13,
     "metadata": {},
     "output_type": "execute_result"
    }
   ],
   "source": [
    "comment = 'Hello%20I%20am%20crazy'\n",
    "classify_MBTI(comment)"
   ]
  },
  {
   "cell_type": "code",
   "execution_count": null,
   "metadata": {},
   "outputs": [],
   "source": []
  }
 ],
 "metadata": {
  "kernelspec": {
   "display_name": "Python 3",
   "language": "python",
   "name": "python3"
  },
  "language_info": {
   "codemirror_mode": {
    "name": "ipython",
    "version": 3
   },
   "file_extension": ".py",
   "mimetype": "text/x-python",
   "name": "python",
   "nbconvert_exporter": "python",
   "pygments_lexer": "ipython3",
   "version": "3.7.3"
  }
 },
 "nbformat": 4,
 "nbformat_minor": 2
}
